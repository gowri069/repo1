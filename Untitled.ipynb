{
 "cells": [
  {
   "cell_type": "code",
   "execution_count": 1,
   "id": "82902886-5328-4b30-aba8-1db0ee3b572e",
   "metadata": {},
   "outputs": [
    {
     "data": {
      "text/plain": [
       "'om'"
      ]
     },
     "execution_count": 1,
     "metadata": {},
     "output_type": "execute_result"
    }
   ],
   "source": [
    "\"om\""
   ]
  },
  {
   "cell_type": "code",
   "execution_count": 2,
   "id": "d151b40c-2cbb-455d-a993-ad649b36c61f",
   "metadata": {},
   "outputs": [
    {
     "data": {
      "text/plain": [
       "'Om muruga saranam'"
      ]
     },
     "execution_count": 2,
     "metadata": {},
     "output_type": "execute_result"
    }
   ],
   "source": [
    "\"Om muruga saranam\""
   ]
  },
  {
   "cell_type": "code",
   "execution_count": null,
   "id": "48255f41-23a7-410a-b853-a5dfd705175e",
   "metadata": {},
   "outputs": [],
   "source": []
  }
 ],
 "metadata": {
  "kernelspec": {
   "display_name": "Python 3 (ipykernel)",
   "language": "python",
   "name": "python3"
  },
  "language_info": {
   "codemirror_mode": {
    "name": "ipython",
    "version": 3
   },
   "file_extension": ".py",
   "mimetype": "text/x-python",
   "name": "python",
   "nbconvert_exporter": "python",
   "pygments_lexer": "ipython3",
   "version": "3.12.4"
  }
 },
 "nbformat": 4,
 "nbformat_minor": 5
}
